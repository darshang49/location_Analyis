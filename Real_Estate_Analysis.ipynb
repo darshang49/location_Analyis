{
 "cells": [
  {
   "cell_type": "code",
   "execution_count": 26,
   "id": "51e62bbc",
   "metadata": {},
   "outputs": [],
   "source": [
    "# Distribution Graph"
   ]
  },
  {
   "cell_type": "code",
   "execution_count": 36,
   "id": "2d95d626",
   "metadata": {},
   "outputs": [],
   "source": [
    "import matplotlib.pyplot as plt\n",
    "import csv\n",
    "  \n",
    "#Empty List x and y\n",
    "x = []\n",
    "y = []\n",
    "\n",
    "#Open CSV and read csv file and uisng for loop to append data in list x and y\n",
    "\n",
    "\n",
    "with open('/home/darshan/Downloads/Result - test1.csv','r') as csvfile:\n",
    "    plots = csv.reader(csvfile, delimiter = ',')\n",
    "    for row in plots:\n",
    "        x.append(row[11])\n",
    "        y.append((row[1]))"
   ]
  },
  {
   "cell_type": "code",
   "execution_count": 37,
   "id": "a9a01f4a",
   "metadata": {},
   "outputs": [
    {
     "data": {
      "image/png": "[encoded data removed]",
      "text/plain": [
       "<Figure size 432x288 with 1 Axes>"
      ]
     },
     "metadata": {
      "needs_background": "light"
     },
     "output_type": "display_data"
    }
   ],
   "source": [
    "#plot Bar Graph\n",
    "plt.bar(x, y, color = 'b', width = 0.5, label = \"Price $\")\n",
    "plt.xlabel('City')\n",
    "plt.ylabel('Price')\n",
    "plt.title('City Wise Price Distribution')\n",
    "plt.legend()\n",
    "#plt.show()\n",
    "plt.savefig('/home/darshan/Desktop/git/location_Analyis/figure4.pdf')"
   ]
  },
  {
   "cell_type": "code",
   "execution_count": null,
   "id": "e68429dc",
   "metadata": {},
   "outputs": [],
   "source": []
  },
  {
   "cell_type": "code",
   "execution_count": null,
   "id": "a4bc289e",
   "metadata": {},
   "outputs": [],
   "source": [
    "# Heat Map "
   ]
  },
  {
   "cell_type": "code",
   "execution_count": 38,
   "id": "92f6b94e",
   "metadata": {},
   "outputs": [
    {
     "data": {
      "text/html": [
       "<div>\n",
       "<style scoped>\n",
       "    .dataframe tbody tr th:only-of-type {\n",
       "        vertical-align: middle;\n",
       "    }\n",
       "\n",
       "    .dataframe tbody tr th {\n",
       "        vertical-align: top;\n",
       "    }\n",
       "\n",
       "    .dataframe thead th {\n",
       "        text-align: right;\n",
       "    }\n",
       "</style>\n",
       "<table border=\"1\" class=\"dataframe\">\n",
       "  <thead>\n",
       "    <tr style=\"text-align: right;\">\n",
       "      <th></th>\n",
       "      <th>Transaction unique identifier</th>\n",
       "      <th>Price</th>\n",
       "      <th>Date_of_Transfer</th>\n",
       "      <th>Postcode</th>\n",
       "      <th>Property Type</th>\n",
       "      <th>Old/New</th>\n",
       "      <th>Duration</th>\n",
       "      <th>PAON</th>\n",
       "      <th>SAON</th>\n",
       "      <th>Street</th>\n",
       "      <th>Locality</th>\n",
       "      <th>Town/City</th>\n",
       "      <th>District</th>\n",
       "      <th>County</th>\n",
       "      <th>PPD Category Type</th>\n",
       "      <th>Record Status - monthly file only</th>\n",
       "      <th>Unnamed: 16</th>\n",
       "      <th>add</th>\n",
       "      <th>latitude</th>\n",
       "      <th>longitude</th>\n",
       "    </tr>\n",
       "  </thead>\n",
       "  <tbody>\n",
       "    <tr>\n",
       "      <th>0</th>\n",
       "      <td>{C18F412B-BD4C-81A6-E053-6B04A8C0AD18}</td>\n",
       "      <td>106.0</td>\n",
       "      <td>2021-02-26 00:00</td>\n",
       "      <td>LS18 5QX</td>\n",
       "      <td>F</td>\n",
       "      <td>N</td>\n",
       "      <td>L</td>\n",
       "      <td>34</td>\n",
       "      <td>FLAT 2</td>\n",
       "      <td>ST JAMES DRIVE</td>\n",
       "      <td>HORSFORTH</td>\n",
       "      <td>LEEDS</td>\n",
       "      <td>LEEDS.1</td>\n",
       "      <td>WEST YORKSHIRE</td>\n",
       "      <td>B</td>\n",
       "      <td>A</td>\n",
       "      <td>NaN</td>\n",
       "      <td>34 FLAT 2ST JAMES DRIVE, HORSFORTH, LEEDS, WES...</td>\n",
       "      <td>53.840671</td>\n",
       "      <td>-1.627360</td>\n",
       "    </tr>\n",
       "    <tr>\n",
       "      <th>1</th>\n",
       "      <td>{C18F412B-BD70-81A6-E053-6B04A8C0AD18}</td>\n",
       "      <td>295.0</td>\n",
       "      <td>2021-02-19 00:00</td>\n",
       "      <td>LS6 2LL</td>\n",
       "      <td>T</td>\n",
       "      <td>N</td>\n",
       "      <td>F</td>\n",
       "      <td>31</td>\n",
       "      <td>NaN</td>\n",
       "      <td>HARTLEY CRESCENT</td>\n",
       "      <td>NaN</td>\n",
       "      <td>LEEDS</td>\n",
       "      <td>LEEDS</td>\n",
       "      <td>WEST YORKSHIRE</td>\n",
       "      <td>B</td>\n",
       "      <td>A</td>\n",
       "      <td>NaN</td>\n",
       "      <td>31 HARTLEY CRESCENT, , LEEDS, WEST YORKSHIRE USA</td>\n",
       "      <td>53.816635</td>\n",
       "      <td>-1.553878</td>\n",
       "    </tr>\n",
       "    <tr>\n",
       "      <th>2</th>\n",
       "      <td>{C18F412B-B46A-81A6-E053-6B04A8C0AD18}</td>\n",
       "      <td>200.0</td>\n",
       "      <td>2021-01-20 00:00</td>\n",
       "      <td>IP14 5FT</td>\n",
       "      <td>S</td>\n",
       "      <td>N</td>\n",
       "      <td>F</td>\n",
       "      <td>62</td>\n",
       "      <td>NaN</td>\n",
       "      <td>OSPREY DRIVE</td>\n",
       "      <td>NaN</td>\n",
       "      <td>STOWMARKET</td>\n",
       "      <td>MID SUFFOLK</td>\n",
       "      <td>SUFFOLK</td>\n",
       "      <td>B</td>\n",
       "      <td>A</td>\n",
       "      <td>NaN</td>\n",
       "      <td>62 OSPREY DRIVE, , STOWMARKET, SUFFOLK USA</td>\n",
       "      <td>52.189976</td>\n",
       "      <td>1.016707</td>\n",
       "    </tr>\n",
       "  </tbody>\n",
       "</table>\n",
       "</div>"
      ],
      "text/plain": [
       "            Transaction unique identifier  Price  Date_of_Transfer  Postcode  \\\n",
       "0  {C18F412B-BD4C-81A6-E053-6B04A8C0AD18}  106.0  2021-02-26 00:00  LS18 5QX   \n",
       "1  {C18F412B-BD70-81A6-E053-6B04A8C0AD18}  295.0  2021-02-19 00:00   LS6 2LL   \n",
       "2  {C18F412B-B46A-81A6-E053-6B04A8C0AD18}  200.0  2021-01-20 00:00  IP14 5FT   \n",
       "\n",
       "  Property Type Old/New Duration PAON    SAON            Street   Locality  \\\n",
       "0             F       N        L   34  FLAT 2    ST JAMES DRIVE  HORSFORTH   \n",
       "1             T       N        F   31     NaN  HARTLEY CRESCENT        NaN   \n",
       "2             S       N        F   62     NaN      OSPREY DRIVE        NaN   \n",
       "\n",
       "    Town/City     District          County PPD Category Type  \\\n",
       "0       LEEDS      LEEDS.1  WEST YORKSHIRE                 B   \n",
       "1       LEEDS        LEEDS  WEST YORKSHIRE                 B   \n",
       "2  STOWMARKET  MID SUFFOLK         SUFFOLK                 B   \n",
       "\n",
       "  Record Status - monthly file only  Unnamed: 16  \\\n",
       "0                                 A          NaN   \n",
       "1                                 A          NaN   \n",
       "2                                 A          NaN   \n",
       "\n",
       "                                                 add   latitude  longitude  \n",
       "0  34 FLAT 2ST JAMES DRIVE, HORSFORTH, LEEDS, WES...  53.840671  -1.627360  \n",
       "1   31 HARTLEY CRESCENT, , LEEDS, WEST YORKSHIRE USA  53.816635  -1.553878  \n",
       "2         62 OSPREY DRIVE, , STOWMARKET, SUFFOLK USA  52.189976   1.016707  "
      ]
     },
     "execution_count": 38,
     "metadata": {},
     "output_type": "execute_result"
    }
   ],
   "source": [
    "import pandas as pd \n",
    "import folium\n",
    "from folium.plugins import HeatMap\n",
    "\n",
    "#Read CSV using pandas\n",
    "df = pd.read_csv('/home/darshan/Downloads/Result - test1.csv')\n",
    "#display data\n",
    "df.head(3)\n",
    "\n"
   ]
  },
  {
   "cell_type": "code",
   "execution_count": 39,
   "id": "18bddecb",
   "metadata": {},
   "outputs": [],
   "source": [
    "# add map location and zoom level\n",
    "hmap = folium.Map(location=[52.03, -1.67], zoom_start=7, )\n"
   ]
  },
  {
   "cell_type": "code",
   "execution_count": 40,
   "id": "69ca2208",
   "metadata": {},
   "outputs": [
    {
     "data": {
      "text/html": [
       "<div style=\"width:100%;\"><div style=\"position:relative;width:100%;height:0;padding-bottom:60%;\"><span style=\"color:#565656\">Make this Notebook Trusted to load map: File -> Trust Notebook</span><iframe src=\"about:blank\" style=\"position:absolute;width:100%;height:100%;left:0;top:0;border:none !important;\" data-html=%3C%21DOCTYPE%20html%3E%0A%3Chead%3E%20%20%20%20%0A%20%20%20%20%3Cmeta%20http-equiv%3D%22content-type%22%20content%3D%22text/html%3B%20charset%3DUTF-8%22%20/%3E%0A%20%20%20%20%0A%20%20%20%20%20%20%20%20%3Cscript%3E%0A%20%20%20%20%20%20%20%20%20%20%20%20L_NO_TOUCH%20%3D%20false%3B%0A%20%20%20%20%20%20%20%20%20%20%20%20L_DISABLE_3D%20%3D%20false%3B%0A%20%20%20%20%20%20%20%20%3C/script%3E%0A%20%20%20%20%0A%20%20%20%20%3Cstyle%3Ehtml%2C%20body%20%7Bwidth%3A%20100%25%3Bheight%3A%20100%25%3Bmargin%3A%200%3Bpadding%3A%200%3B%7D%3C/style%3E%0A%20%20%20%20%3Cstyle%3E%23map%20%7Bposition%3Aabsolute%3Btop%3A0%3Bbottom%3A0%3Bright%3A0%3Bleft%3A0%3B%7D%3C/style%3E%0A%20%20%20%20%3Cscript%20src%3D%22https%3A//cdn.jsdelivr.net/npm/leaflet%401.6.0/dist/leaflet.js%22%3E%3C/script%3E%0A%20%20%20%20%3Cscript%20src%3D%22https%3A//code.jquery.com/jquery-1.12.4.min.js%22%3E%3C/script%3E%0A%20%20%20%20%3Cscript%20src%3D%22https%3A//maxcdn.bootstrapcdn.com/bootstrap/3.2.0/js/bootstrap.min.js%22%3E%3C/script%3E%0A%20%20%20%20%3Cscript%20src%3D%22https%3A//cdnjs.cloudflare.com/ajax/libs/Leaflet.awesome-markers/2.0.2/leaflet.awesome-markers.js%22%3E%3C/script%3E%0A%20%20%20%20%3Clink%20rel%3D%22stylesheet%22%20href%3D%22https%3A//cdn.jsdelivr.net/npm/leaflet%401.6.0/dist/leaflet.css%22/%3E%0A%20%20%20%20%3Clink%20rel%3D%22stylesheet%22%20href%3D%22https%3A//maxcdn.bootstrapcdn.com/bootstrap/3.2.0/css/bootstrap.min.css%22/%3E%0A%20%20%20%20%3Clink%20rel%3D%22stylesheet%22%20href%3D%22https%3A//maxcdn.bootstrapcdn.com/bootstrap/3.2.0/css/bootstrap-theme.min.css%22/%3E%0A%20%20%20%20%3Clink%20rel%3D%22stylesheet%22%20href%3D%22https%3A//maxcdn.bootstrapcdn.com/font-awesome/4.6.3/css/font-awesome.min.css%22/%3E%0A%20%20%20%20%3Clink%20rel%3D%22stylesheet%22%20href%3D%22https%3A//cdnjs.cloudflare.com/ajax/libs/Leaflet.awesome-markers/2.0.2/leaflet.awesome-markers.css%22/%3E%0A%20%20%20%20%3Clink%20rel%3D%22stylesheet%22%20href%3D%22https%3A//cdn.jsdelivr.net/gh/python-visualization/folium/folium/templates/leaflet.awesome.rotate.min.css%22/%3E%0A%20%20%20%20%0A%20%20%20%20%20%20%20%20%20%20%20%20%3Cmeta%20name%3D%22viewport%22%20content%3D%22width%3Ddevice-width%2C%0A%20%20%20%20%20%20%20%20%20%20%20%20%20%20%20%20initial-scale%3D1.0%2C%20maximum-scale%3D1.0%2C%20user-scalable%3Dno%22%20/%3E%0A%20%20%20%20%20%20%20%20%20%20%20%20%3Cstyle%3E%0A%20%20%20%20%20%20%20%20%20%20%20%20%20%20%20%20%23map_1c329f1215934090b8187ca869e75335%20%7B%0A%20%20%20%20%20%20%20%20%20%20%20%20%20%20%20%20%20%20%20%20position%3A%20relative%3B%0A%20%20%20%20%20%20%20%20%20%20%20%20%20%20%20%20%20%20%20%20width%3A%20100.0%25%3B%0A%20%20%20%20%20%20%20%20%20%20%20%20%20%20%20%20%20%20%20%20height%3A%20100.0%25%3B%0A%20%20%20%20%20%20%20%20%20%20%20%20%20%20%20%20%20%20%20%20left%3A%200.0%25%3B%0A%20%20%20%20%20%20%20%20%20%20%20%20%20%20%20%20%20%20%20%20top%3A%200.0%25%3B%0A%20%20%20%20%20%20%20%20%20%20%20%20%20%20%20%20%7D%0A%20%20%20%20%20%20%20%20%20%20%20%20%3C/style%3E%0A%20%20%20%20%20%20%20%20%0A%20%20%20%20%3Cscript%20src%3D%22https%3A//cdn.jsdelivr.net/gh/python-visualization/folium%40master/folium/templates/leaflet_heat.min.js%22%3E%3C/script%3E%0A%3C/head%3E%0A%3Cbody%3E%20%20%20%20%0A%20%20%20%20%0A%20%20%20%20%20%20%20%20%20%20%20%20%3Cdiv%20class%3D%22folium-map%22%20id%3D%22map_1c329f1215934090b8187ca869e75335%22%20%3E%3C/div%3E%0A%20%20%20%20%20%20%20%20%0A%3C/body%3E%0A%3Cscript%3E%20%20%20%20%0A%20%20%20%20%0A%20%20%20%20%20%20%20%20%20%20%20%20var%20map_1c329f1215934090b8187ca869e75335%20%3D%20L.map%28%0A%20%20%20%20%20%20%20%20%20%20%20%20%20%20%20%20%22map_1c329f1215934090b8187ca869e75335%22%2C%0A%20%20%20%20%20%20%20%20%20%20%20%20%20%20%20%20%7B%0A%20%20%20%20%20%20%20%20%20%20%20%20%20%20%20%20%20%20%20%20center%3A%20%5B52.03%2C%20-1.67%5D%2C%0A%20%20%20%20%20%20%20%20%20%20%20%20%20%20%20%20%20%20%20%20crs%3A%20L.CRS.EPSG3857%2C%0A%20%20%20%20%20%20%20%20%20%20%20%20%20%20%20%20%20%20%20%20zoom%3A%207%2C%0A%20%20%20%20%20%20%20%20%20%20%20%20%20%20%20%20%20%20%20%20zoomControl%3A%20true%2C%0A%20%20%20%20%20%20%20%20%20%20%20%20%20%20%20%20%20%20%20%20preferCanvas%3A%20false%2C%0A%20%20%20%20%20%20%20%20%20%20%20%20%20%20%20%20%7D%0A%20%20%20%20%20%20%20%20%20%20%20%20%29%3B%0A%0A%20%20%20%20%20%20%20%20%20%20%20%20%0A%0A%20%20%20%20%20%20%20%20%0A%20%20%20%20%0A%20%20%20%20%20%20%20%20%20%20%20%20var%20tile_layer_656c19001c24404a9b3b948a60c68894%20%3D%20L.tileLayer%28%0A%20%20%20%20%20%20%20%20%20%20%20%20%20%20%20%20%22https%3A//%7Bs%7D.tile.openstreetmap.org/%7Bz%7D/%7Bx%7D/%7By%7D.png%22%2C%0A%20%20%20%20%20%20%20%20%20%20%20%20%20%20%20%20%7B%22attribution%22%3A%20%22Data%20by%20%5Cu0026copy%3B%20%5Cu003ca%20href%3D%5C%22http%3A//openstreetmap.org%5C%22%5Cu003eOpenStreetMap%5Cu003c/a%5Cu003e%2C%20under%20%5Cu003ca%20href%3D%5C%22http%3A//www.openstreetmap.org/copyright%5C%22%5Cu003eODbL%5Cu003c/a%5Cu003e.%22%2C%20%22detectRetina%22%3A%20false%2C%20%22maxNativeZoom%22%3A%2018%2C%20%22maxZoom%22%3A%2018%2C%20%22minZoom%22%3A%200%2C%20%22noWrap%22%3A%20false%2C%20%22opacity%22%3A%201%2C%20%22subdomains%22%3A%20%22abc%22%2C%20%22tms%22%3A%20false%7D%0A%20%20%20%20%20%20%20%20%20%20%20%20%29.addTo%28map_1c329f1215934090b8187ca869e75335%29%3B%0A%20%20%20%20%20%20%20%20%0A%20%20%20%20%0A%20%20%20%20%20%20%20%20%20%20%20%20var%20heat_map_2a5d7895df6e40f48f42437b104f4600%20%3D%20L.heatLayer%28%0A%20%20%20%20%20%20%20%20%20%20%20%20%20%20%20%20%5B%5B53.8406711%2C%20-1.6273604%2C%20106.0%5D%2C%20%5B53.8166349%2C%20-1.5538781%2C%20295.0%5D%2C%20%5B52.1899761%2C%201.0167066%2C%20200.0%5D%2C%20%5B52.4219891%2C%20-2.6167346%2C%20540.0%5D%2C%20%5B52.3666342%2C%20-2.6183963%2C%20760.0%5D%2C%20%5B51.4780393%2C%20-0.0846007%2C%205900.0%5D%2C%20%5B51.61293%2C%200.107152%2C%20300.0%5D%2C%20%5B53.8406711%2C%20-1.6273604%2C%20106.0%5D%2C%20%5B53.8406711%2C%20-1.6273604%2C%2096.0%5D%2C%20%5B53.701947%2C%20-1.3120582%2C%2095.0%5D%2C%20%5B53.801271%2C%20-1.6744813%2C%2095.0%5D%2C%20%5B53.6836167%2C%20-1.5858814%2C%20500.0%5D%2C%20%5B53.7658362%2C%20-1.7993276%2C%2093.0%5D%2C%20%5B53.8295159%2C%20-1.6099992%2C%20126.0%5D%2C%20%5B53.7073361%2C%20-1.7854644%2C%2062.0%5D%2C%20%5B53.7781326%2C%20-1.7877458%2C%2040.0%5D%2C%20%5B53.6878256%2C%20-1.6564961%2C%2080.0%5D%2C%20%5B53.7043833%2C%20-1.6516023%2C%2075.0%5D%2C%20%5B53.8133522%2C%20-1.5705696%2C%20270.0%5D%2C%20%5B53.8072879%2C%20-1.7200062%2C%2069.0%5D%2C%20%5B53.8412901%2C%20-1.7744604%2C%20100.0%5D%2C%20%5B53.7373542%2C%20-1.8663172%2C%20225.0%5D%2C%20%5B53.7203598%2C%20-1.9164818%2C%20100.0%5D%2C%20%5B53.7026081%2C%20-1.4088575%2C%2060.0%5D%2C%20%5B53.6866576%2C%20-1.8228161%2C%20140.0%5D%2C%20%5B53.675254%2C%20-1.6684178%2C%20144.0%5D%2C%20%5B53.7726445%2C%20-1.5482541%2C%2065.0%5D%2C%20%5B53.8102572%2C%20-1.6256106%2C%2084.0%5D%2C%20%5B53.7307777%2C%20-1.9826675%2C%20245.0%5D%2C%20%5B53.6576425%2C%20-1.7831654%2C%20123.0%5D%2C%20%5B53.6576425%2C%20-1.7831654%2C%20123.0%5D%2C%20%5B53.8989615%2C%20-1.7178245%2C%20245.0%5D%2C%20%5B53.74022%2C%20-1.88613%2C%20250.0%5D%2C%20%5B53.7992371%2C%20-1.9003136%2C%2055.0%5D%2C%20%5B51.0671955%2C%20-4.0403222%2C%20369.0%5D%2C%20%5B50.5383556%2C%20-3.6223607%2C%20230.0%5D%2C%20%5B50.5223342%2C%20-3.623906%2C%20330.0%5D%2C%20%5B50.5326196%2C%20-3.5975649%2C%2095.0%5D%2C%20%5B50.73868%2C%20-2.949305%2C%201500.0%5D%2C%20%5B50.996942%2C%20-3.9849799%2C%20435.0%5D%2C%20%5B50.3973772%2C%20-3.5673741%2C%20210.0%5D%2C%20%5B51.0852043%2C%20-4.0469309%2C%20172.0%5D%2C%20%5B50.4629104%2C%20-3.5194015%2C%20300.0%5D%2C%20%5B50.776091%2C%20-3.635709%2C%20308.0%5D%2C%20%5B50.493452%2C%20-4.085603%2C%20521.0%5D%2C%20%5B50.7940242%2C%20-3.2008985%2C%20189.0%5D%2C%20%5B51.086026%2C%20-4.0555714%2C%20170.0%5D%2C%20%5B50.8373511%2C%20-4.1511432%2C%20515.0%5D%2C%20%5B50.7936679%2C%20-3.6519056%2C%20700.0%5D%2C%20%5B50.559861%2C%20-3.5940794%2C%20260.0%5D%2C%20%5B51.0184459%2C%20-3.8340934%2C%20255.0%5D%2C%20%5B50.6403475%2C%20-3.4037232%2C%20260.0%5D%2C%20%5B50.5944061%2C%20-3.4608601%2C%20170.0%5D%5D%2C%0A%20%20%20%20%20%20%20%20%20%20%20%20%20%20%20%20%7B%22blur%22%3A%2015%2C%20%22maxZoom%22%3A%201%2C%20%22minOpacity%22%3A%200.2%2C%20%22radius%22%3A%2017%7D%0A%20%20%20%20%20%20%20%20%20%20%20%20%29.addTo%28map_1c329f1215934090b8187ca869e75335%29%3B%0A%20%20%20%20%20%20%20%20%0A%3C/script%3E onload=\"this.contentDocument.open();this.contentDocument.write(    decodeURIComponent(this.getAttribute('data-html')));this.contentDocument.close();\" allowfullscreen webkitallowfullscreen mozallowfullscreen></iframe></div></div>"
      ],
      "text/plain": [
       "<folium.folium.Map at 0x7f2d8ef5c880>"
      ]
     },
     "execution_count": 40,
     "metadata": {},
     "output_type": "execute_result"
    }
   ],
   "source": [
    "#Create Heat Map\n",
    "\n",
    "hm_wide = HeatMap( list(zip(df.latitude.values, df.longitude.values, df.Price.values)),\n",
    "                   min_opacity=0.2,\n",
    "                   radius=17, blur=15, \n",
    "                   max_zoom=1, \n",
    "                 )\n",
    "\n",
    "hmap.add_child(hm_wide)"
   ]
  },
  {
   "cell_type": "code",
   "execution_count": null,
   "id": "5693476d",
   "metadata": {},
   "outputs": [],
   "source": [
    "\n"
   ]
  },
  {
   "cell_type": "code",
   "execution_count": null,
   "id": "d8ef52a5",
   "metadata": {},
   "outputs": [],
   "source": []
  },
  {
   "cell_type": "code",
   "execution_count": null,
   "id": "9c80dd2e",
   "metadata": {},
   "outputs": [],
   "source": []
  },
  {
   "cell_type": "code",
   "execution_count": null,
   "id": "cc21c49a",
   "metadata": {},
   "outputs": [],
   "source": [
    "import pandas as pd\n",
    "import numpy as np\n",
    "  \n",
    "# readinag given csv file\n",
    "# and creating dataframe\n",
    "#dataframe1 = pd.read_csv(\"/home/darshan/Desktop/git/location_Analyis/test.txt\")\n",
    "  \n",
    "# storing this dataframe in a csv file\n",
    "#dataframe1.to_csv('/home/darshan/Downloads/Result - test1.csv', \n",
    "                  index = None)"
   ]
  }
 ],
 "metadata": {
  "kernelspec": {
   "display_name": "Python 3 (ipykernel)",
   "language": "python",
   "name": "python3"
  },
  "language_info": {
   "codemirror_mode": {
    "name": "ipython",
    "version": 3
   },
   "file_extension": ".py",
   "mimetype": "text/x-python",
   "name": "python",
   "nbconvert_exporter": "python",
   "pygments_lexer": "ipython3",
   "version": "3.9.7"
  }
 },
 "nbformat": 4,
 "nbformat_minor": 5
}
