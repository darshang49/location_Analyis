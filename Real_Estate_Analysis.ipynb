{
 "cells": [
  {
   "cell_type": "code",
   "execution_count": 1,
   "id": "51e62bbc",
   "metadata": {},
   "outputs": [],
   "source": [
    "#  Mean Std and Devaiation and Distribution Graph "
   ]
  },
  {
   "cell_type": "code",
   "execution_count": 2,
   "id": "e689784b",
   "metadata": {},
   "outputs": [],
   "source": [
    "# Import Required libraries\n",
    "\n",
    "import matplotlib.pyplot as plt\n",
    "import csv\n",
    "import pandas as pd "
   ]
  },
  {
   "cell_type": "code",
   "execution_count": 3,
   "id": "6b9de2ad",
   "metadata": {},
   "outputs": [],
   "source": [
    "# Read CSV into dataframe using pandas\n",
    "\n",
    "data = pd.read_csv('/home/darshan/Desktop/git/location_Analyis/Result - test1.csv')"
   ]
  },
  {
   "cell_type": "code",
   "execution_count": 4,
   "id": "e8bd5fb9",
   "metadata": {},
   "outputs": [
    {
     "name": "stdout",
     "output_type": "stream",
     "text": [
      "353.8867924528302\n"
     ]
    }
   ],
   "source": [
    "print(data['Price'].mean()) #mean"
   ]
  },
  {
   "cell_type": "code",
   "execution_count": 5,
   "id": "bc81ee43",
   "metadata": {},
   "outputs": [
    {
     "name": "stdout",
     "output_type": "stream",
     "text": [
      "812.6992456380576\n"
     ]
    }
   ],
   "source": [
    "print(data['Price'].std()) #standard Deviation"
   ]
  },
  {
   "cell_type": "code",
   "execution_count": 6,
   "id": "2d95d626",
   "metadata": {},
   "outputs": [],
   "source": [
    "#Empty List x and y\n",
    "x = []\n",
    "y = []\n",
    "\n",
    "#Open CSV and read csv file and uisng for loop to append data in list x and y\n",
    "\n",
    "with open('/home/darshan/Desktop/git/location_Analyis/Result - test1.csv','r') as csvfile:\n",
    "    plots = csv.reader(csvfile, delimiter = ',')\n",
    "    for row in plots:\n",
    "        x.append(row[11])\n",
    "        y.append((row[1]))"
   ]
  },
  {
   "cell_type": "code",
   "execution_count": 7,
   "id": "a9a01f4a",
   "metadata": {},
   "outputs": [
    {
     "data": {
      "image/png": "[encoded data removed]",
      "text/plain": [
       "<Figure size 432x288 with 1 Axes>"
      ]
     },
     "metadata": {
      "needs_background": "light"
     },
     "output_type": "display_data"
    }
   ],
   "source": [
    "#plot Bar Graph\n",
    "plt.bar(x, y, color = 'b', width = 0.5, label = \"Price $\")\n",
    "plt.xlabel('City')\n",
    "plt.ylabel('Price')\n",
    "plt.title('City Wise Price Distribution')\n",
    "plt.legend()\n",
    "#plt.show()\n",
    "plt.savefig('/home/darshan/Desktop/git/location_Analyis/figure4.pdf')"
   ]
  },
  {
   "cell_type": "code",
   "execution_count": 8,
   "id": "e68429dc",
   "metadata": {},
   "outputs": [
    {
     "name": "stdout",
     "output_type": "stream",
     "text": [
      "The Distance between appatment1 and appartment2 : 72.14252560884252 Meters\n"
     ]
    }
   ],
   "source": [
    "# Distance between Points\n",
    "\n",
    "from geopy.distance import distance\n",
    "appartment1 = 46.058787, 38.203126 #\n",
    "apparment2 = 46.059112, 38.202319\n",
    "dist = distance(appartment1, apparment2).m\n",
    "print(f\"The Distance between appatment1 and appartment2 : {dist} Meters\")"
   ]
  },
  {
   "cell_type": "code",
   "execution_count": 9,
   "id": "c1ca8067",
   "metadata": {},
   "outputs": [
    {
     "name": "stdout",
     "output_type": "stream",
     "text": [
      "courier1 2226\n",
      "courier2 582\n",
      "courier3 132\n",
      "courier4 3226\n",
      "courier5 1037\n"
     ]
    }
   ],
   "source": [
    "# Distance from  point of interest\n",
    "\n",
    "\n",
    "from geopy.distance import distance\n",
    "\n",
    "#flat_location\n",
    "flat_add = 46.068790, 38.203126\n",
    "\n",
    "#Courier locations stored in dictionary\n",
    "couriers = {\n",
    "  'courier1': (46.048772, 38.203925),\n",
    "  'courier2': (46.071091, 38.209886),\n",
    "  'courier3': (46.067738, 38.203922),\n",
    "  'courier4': (46.039874, 38.199607),\n",
    "  'courier5': (46.062730, 38.213322)\n",
    "}\n",
    "\n",
    "\n",
    "for courier_id, courier_loc in couriers.items():\n",
    "  dist = distance(flat_add, courier_loc).m\n",
    "  print(courier_id, round(dist))"
   ]
  },
  {
   "cell_type": "code",
   "execution_count": null,
   "id": "a40ff67a",
   "metadata": {},
   "outputs": [],
   "source": []
  },
  {
   "cell_type": "code",
   "execution_count": 10,
   "id": "a4bc289e",
   "metadata": {},
   "outputs": [],
   "source": [
    "# Heat Map \n",
    "\n",
    "import folium\n",
    "from folium.plugins import HeatMap"
   ]
  },
  {
   "cell_type": "code",
   "execution_count": 11,
   "id": "18bddecb",
   "metadata": {},
   "outputs": [],
   "source": [
    "# add map location and zoom level\n",
    "hmap = folium.Map(location=[52.03, -1.67], zoom_start=7, )\n"
   ]
  },
  {
   "cell_type": "code",
   "execution_count": 13,
   "id": "69ca2208",
   "metadata": {},
   "outputs": [
    {
     "data": {
      "text/html": [
       "<div style=\"width:100%;\"><div style=\"position:relative;width:100%;height:0;padding-bottom:60%;\"><span style=\"color:#565656\">Make this Notebook Trusted to load map: File -> Trust Notebook</span><iframe src=\"about:blank\" style=\"position:absolute;width:100%;height:100%;left:0;top:0;border:none !important;\" data-html=%3C%21DOCTYPE%20html%3E%0A%3Chead%3E%20%20%20%20%0A%20%20%20%20%3Cmeta%20http-equiv%3D%22content-type%22%20content%3D%22text/html%3B%20charset%3DUTF-8%22%20/%3E%0A%20%20%20%20%0A%20%20%20%20%20%20%20%20%3Cscript%3E%0A%20%20%20%20%20%20%20%20%20%20%20%20L_NO_TOUCH%20%3D%20false%3B%0A%20%20%20%20%20%20%20%20%20%20%20%20L_DISABLE_3D%20%3D%20false%3B%0A%20%20%20%20%20%20%20%20%3C/script%3E%0A%20%20%20%20%0A%20%20%20%20%3Cstyle%3Ehtml%2C%20body%20%7Bwidth%3A%20100%25%3Bheight%3A%20100%25%3Bmargin%3A%200%3Bpadding%3A%200%3B%7D%3C/style%3E%0A%20%20%20%20%3Cstyle%3E%23map%20%7Bposition%3Aabsolute%3Btop%3A0%3Bbottom%3A0%3Bright%3A0%3Bleft%3A0%3B%7D%3C/style%3E%0A%20%20%20%20%3Cscript%20src%3D%22https%3A//cdn.jsdelivr.net/npm/leaflet%401.6.0/dist/leaflet.js%22%3E%3C/script%3E%0A%20%20%20%20%3Cscript%20src%3D%22https%3A//code.jquery.com/jquery-1.12.4.min.js%22%3E%3C/script%3E%0A%20%20%20%20%3Cscript%20src%3D%22https%3A//maxcdn.bootstrapcdn.com/bootstrap/3.2.0/js/bootstrap.min.js%22%3E%3C/script%3E%0A%20%20%20%20%3Cscript%20src%3D%22https%3A//cdnjs.cloudflare.com/ajax/libs/Leaflet.awesome-markers/2.0.2/leaflet.awesome-markers.js%22%3E%3C/script%3E%0A%20%20%20%20%3Clink%20rel%3D%22stylesheet%22%20href%3D%22https%3A//cdn.jsdelivr.net/npm/leaflet%401.6.0/dist/leaflet.css%22/%3E%0A%20%20%20%20%3Clink%20rel%3D%22stylesheet%22%20href%3D%22https%3A//maxcdn.bootstrapcdn.com/bootstrap/3.2.0/css/bootstrap.min.css%22/%3E%0A%20%20%20%20%3Clink%20rel%3D%22stylesheet%22%20href%3D%22https%3A//maxcdn.bootstrapcdn.com/bootstrap/3.2.0/css/bootstrap-theme.min.css%22/%3E%0A%20%20%20%20%3Clink%20rel%3D%22stylesheet%22%20href%3D%22https%3A//maxcdn.bootstrapcdn.com/font-awesome/4.6.3/css/font-awesome.min.css%22/%3E%0A%20%20%20%20%3Clink%20rel%3D%22stylesheet%22%20href%3D%22https%3A//cdnjs.cloudflare.com/ajax/libs/Leaflet.awesome-markers/2.0.2/leaflet.awesome-markers.css%22/%3E%0A%20%20%20%20%3Clink%20rel%3D%22stylesheet%22%20href%3D%22https%3A//cdn.jsdelivr.net/gh/python-visualization/folium/folium/templates/leaflet.awesome.rotate.min.css%22/%3E%0A%20%20%20%20%0A%20%20%20%20%20%20%20%20%20%20%20%20%3Cmeta%20name%3D%22viewport%22%20content%3D%22width%3Ddevice-width%2C%0A%20%20%20%20%20%20%20%20%20%20%20%20%20%20%20%20initial-scale%3D1.0%2C%20maximum-scale%3D1.0%2C%20user-scalable%3Dno%22%20/%3E%0A%20%20%20%20%20%20%20%20%20%20%20%20%3Cstyle%3E%0A%20%20%20%20%20%20%20%20%20%20%20%20%20%20%20%20%23map_fd59f71aadc74424a7e617fbc5d67c41%20%7B%0A%20%20%20%20%20%20%20%20%20%20%20%20%20%20%20%20%20%20%20%20position%3A%20relative%3B%0A%20%20%20%20%20%20%20%20%20%20%20%20%20%20%20%20%20%20%20%20width%3A%20100.0%25%3B%0A%20%20%20%20%20%20%20%20%20%20%20%20%20%20%20%20%20%20%20%20height%3A%20100.0%25%3B%0A%20%20%20%20%20%20%20%20%20%20%20%20%20%20%20%20%20%20%20%20left%3A%200.0%25%3B%0A%20%20%20%20%20%20%20%20%20%20%20%20%20%20%20%20%20%20%20%20top%3A%200.0%25%3B%0A%20%20%20%20%20%20%20%20%20%20%20%20%20%20%20%20%7D%0A%20%20%20%20%20%20%20%20%20%20%20%20%3C/style%3E%0A%20%20%20%20%20%20%20%20%0A%20%20%20%20%3Cscript%20src%3D%22https%3A//cdn.jsdelivr.net/gh/python-visualization/folium%40master/folium/templates/leaflet_heat.min.js%22%3E%3C/script%3E%0A%3C/head%3E%0A%3Cbody%3E%20%20%20%20%0A%20%20%20%20%0A%20%20%20%20%20%20%20%20%20%20%20%20%3Cdiv%20class%3D%22folium-map%22%20id%3D%22map_fd59f71aadc74424a7e617fbc5d67c41%22%20%3E%3C/div%3E%0A%20%20%20%20%20%20%20%20%0A%3C/body%3E%0A%3Cscript%3E%20%20%20%20%0A%20%20%20%20%0A%20%20%20%20%20%20%20%20%20%20%20%20var%20map_fd59f71aadc74424a7e617fbc5d67c41%20%3D%20L.map%28%0A%20%20%20%20%20%20%20%20%20%20%20%20%20%20%20%20%22map_fd59f71aadc74424a7e617fbc5d67c41%22%2C%0A%20%20%20%20%20%20%20%20%20%20%20%20%20%20%20%20%7B%0A%20%20%20%20%20%20%20%20%20%20%20%20%20%20%20%20%20%20%20%20center%3A%20%5B52.03%2C%20-1.67%5D%2C%0A%20%20%20%20%20%20%20%20%20%20%20%20%20%20%20%20%20%20%20%20crs%3A%20L.CRS.EPSG3857%2C%0A%20%20%20%20%20%20%20%20%20%20%20%20%20%20%20%20%20%20%20%20zoom%3A%207%2C%0A%20%20%20%20%20%20%20%20%20%20%20%20%20%20%20%20%20%20%20%20zoomControl%3A%20true%2C%0A%20%20%20%20%20%20%20%20%20%20%20%20%20%20%20%20%20%20%20%20preferCanvas%3A%20false%2C%0A%20%20%20%20%20%20%20%20%20%20%20%20%20%20%20%20%7D%0A%20%20%20%20%20%20%20%20%20%20%20%20%29%3B%0A%0A%20%20%20%20%20%20%20%20%20%20%20%20%0A%0A%20%20%20%20%20%20%20%20%0A%20%20%20%20%0A%20%20%20%20%20%20%20%20%20%20%20%20var%20tile_layer_4990a83865ac4f06bf9ed921c59e782b%20%3D%20L.tileLayer%28%0A%20%20%20%20%20%20%20%20%20%20%20%20%20%20%20%20%22https%3A//%7Bs%7D.tile.openstreetmap.org/%7Bz%7D/%7Bx%7D/%7By%7D.png%22%2C%0A%20%20%20%20%20%20%20%20%20%20%20%20%20%20%20%20%7B%22attribution%22%3A%20%22Data%20by%20%5Cu0026copy%3B%20%5Cu003ca%20href%3D%5C%22http%3A//openstreetmap.org%5C%22%5Cu003eOpenStreetMap%5Cu003c/a%5Cu003e%2C%20under%20%5Cu003ca%20href%3D%5C%22http%3A//www.openstreetmap.org/copyright%5C%22%5Cu003eODbL%5Cu003c/a%5Cu003e.%22%2C%20%22detectRetina%22%3A%20false%2C%20%22maxNativeZoom%22%3A%2018%2C%20%22maxZoom%22%3A%2018%2C%20%22minZoom%22%3A%200%2C%20%22noWrap%22%3A%20false%2C%20%22opacity%22%3A%201%2C%20%22subdomains%22%3A%20%22abc%22%2C%20%22tms%22%3A%20false%7D%0A%20%20%20%20%20%20%20%20%20%20%20%20%29.addTo%28map_fd59f71aadc74424a7e617fbc5d67c41%29%3B%0A%20%20%20%20%20%20%20%20%0A%20%20%20%20%0A%20%20%20%20%20%20%20%20%20%20%20%20var%20heat_map_98448f7d38e7428fbe6451f357b8b79d%20%3D%20L.heatLayer%28%0A%20%20%20%20%20%20%20%20%20%20%20%20%20%20%20%20%5B%5B53.8406711%2C%20-1.6273604%2C%20106.0%5D%2C%20%5B53.8166349%2C%20-1.5538781%2C%20295.0%5D%2C%20%5B52.1899761%2C%201.0167066%2C%20200.0%5D%2C%20%5B52.4219891%2C%20-2.6167346%2C%20540.0%5D%2C%20%5B52.3666342%2C%20-2.6183963%2C%20760.0%5D%2C%20%5B51.4780393%2C%20-0.0846007%2C%205900.0%5D%2C%20%5B51.61293%2C%200.107152%2C%20300.0%5D%2C%20%5B53.8406711%2C%20-1.6273604%2C%20106.0%5D%2C%20%5B53.8406711%2C%20-1.6273604%2C%2096.0%5D%2C%20%5B53.701947%2C%20-1.3120582%2C%2095.0%5D%2C%20%5B53.801271%2C%20-1.6744813%2C%2095.0%5D%2C%20%5B53.6836167%2C%20-1.5858814%2C%20500.0%5D%2C%20%5B53.7658362%2C%20-1.7993276%2C%2093.0%5D%2C%20%5B53.8295159%2C%20-1.6099992%2C%20126.0%5D%2C%20%5B53.7073361%2C%20-1.7854644%2C%2062.0%5D%2C%20%5B53.7781326%2C%20-1.7877458%2C%2040.0%5D%2C%20%5B53.6878256%2C%20-1.6564961%2C%2080.0%5D%2C%20%5B53.7043833%2C%20-1.6516023%2C%2075.0%5D%2C%20%5B53.8133522%2C%20-1.5705696%2C%20270.0%5D%2C%20%5B53.8072879%2C%20-1.7200062%2C%2069.0%5D%2C%20%5B53.8412901%2C%20-1.7744604%2C%20100.0%5D%2C%20%5B53.7373542%2C%20-1.8663172%2C%20225.0%5D%2C%20%5B53.7203598%2C%20-1.9164818%2C%20100.0%5D%2C%20%5B53.7026081%2C%20-1.4088575%2C%2060.0%5D%2C%20%5B53.6866576%2C%20-1.8228161%2C%20140.0%5D%2C%20%5B53.675254%2C%20-1.6684178%2C%20144.0%5D%2C%20%5B53.7726445%2C%20-1.5482541%2C%2065.0%5D%2C%20%5B53.8102572%2C%20-1.6256106%2C%2084.0%5D%2C%20%5B53.7307777%2C%20-1.9826675%2C%20245.0%5D%2C%20%5B53.6576425%2C%20-1.7831654%2C%20123.0%5D%2C%20%5B53.6576425%2C%20-1.7831654%2C%20123.0%5D%2C%20%5B53.8989615%2C%20-1.7178245%2C%20245.0%5D%2C%20%5B53.74022%2C%20-1.88613%2C%20250.0%5D%2C%20%5B53.7992371%2C%20-1.9003136%2C%2055.0%5D%2C%20%5B51.0671955%2C%20-4.0403222%2C%20369.0%5D%2C%20%5B50.5383556%2C%20-3.6223607%2C%20230.0%5D%2C%20%5B50.5223342%2C%20-3.623906%2C%20330.0%5D%2C%20%5B50.5326196%2C%20-3.5975649%2C%2095.0%5D%2C%20%5B50.73868%2C%20-2.949305%2C%201500.0%5D%2C%20%5B50.996942%2C%20-3.9849799%2C%20435.0%5D%2C%20%5B50.3973772%2C%20-3.5673741%2C%20210.0%5D%2C%20%5B51.0852043%2C%20-4.0469309%2C%20172.0%5D%2C%20%5B50.4629104%2C%20-3.5194015%2C%20300.0%5D%2C%20%5B50.776091%2C%20-3.635709%2C%20308.0%5D%2C%20%5B50.493452%2C%20-4.085603%2C%20521.0%5D%2C%20%5B50.7940242%2C%20-3.2008985%2C%20189.0%5D%2C%20%5B51.086026%2C%20-4.0555714%2C%20170.0%5D%2C%20%5B50.8373511%2C%20-4.1511432%2C%20515.0%5D%2C%20%5B50.7936679%2C%20-3.6519056%2C%20700.0%5D%2C%20%5B50.559861%2C%20-3.5940794%2C%20260.0%5D%2C%20%5B51.0184459%2C%20-3.8340934%2C%20255.0%5D%2C%20%5B50.6403475%2C%20-3.4037232%2C%20260.0%5D%2C%20%5B50.5944061%2C%20-3.4608601%2C%20170.0%5D%5D%2C%0A%20%20%20%20%20%20%20%20%20%20%20%20%20%20%20%20%7B%22blur%22%3A%2015%2C%20%22maxZoom%22%3A%201%2C%20%22minOpacity%22%3A%200.2%2C%20%22radius%22%3A%2017%7D%0A%20%20%20%20%20%20%20%20%20%20%20%20%29.addTo%28map_fd59f71aadc74424a7e617fbc5d67c41%29%3B%0A%20%20%20%20%20%20%20%20%0A%3C/script%3E onload=\"this.contentDocument.open();this.contentDocument.write(    decodeURIComponent(this.getAttribute('data-html')));this.contentDocument.close();\" allowfullscreen webkitallowfullscreen mozallowfullscreen></iframe></div></div>"
      ],
      "text/plain": [
       "<folium.folium.Map at 0x7efc7f104310>"
      ]
     },
     "execution_count": 13,
     "metadata": {},
     "output_type": "execute_result"
    }
   ],
   "source": [
    "#Create Heat Map\n",
    "\n",
    "hm_wide = HeatMap( list(zip(data.latitude.values, data.longitude.values, data.Price.values)),\n",
    "                   min_opacity=0.2,\n",
    "                   radius=17, blur=15, \n",
    "                   max_zoom=1, \n",
    "                 )\n",
    "\n",
    "hmap.add_child(hm_wide)"
   ]
  },
  {
   "cell_type": "code",
   "execution_count": null,
   "id": "54e9f9b1",
   "metadata": {},
   "outputs": [],
   "source": []
  },
  {
   "cell_type": "code",
   "execution_count": null,
   "id": "2dd79026",
   "metadata": {},
   "outputs": [],
   "source": []
  }
 ],
 "metadata": {
  "kernelspec": {
   "display_name": "Python 3 (ipykernel)",
   "language": "python",
   "name": "python3"
  },
  "language_info": {
   "codemirror_mode": {
    "name": "ipython",
    "version": 3
   },
   "file_extension": ".py",
   "mimetype": "text/x-python",
   "name": "python",
   "nbconvert_exporter": "python",
   "pygments_lexer": "ipython3",
   "version": "3.9.7"
  }
 },
 "nbformat": 4,
 "nbformat_minor": 5
}
